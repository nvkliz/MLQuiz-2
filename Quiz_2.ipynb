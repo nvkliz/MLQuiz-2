{
 "cells": [
  {
   "cell_type": "markdown",
   "metadata": {
    "deletable": false,
    "editable": false,
    "nbgrader": {
     "cell_type": "markdown",
     "checksum": "0bc098c75cc5164ef9f9f42c4e5751ee",
     "grade": false,
     "grade_id": "cell-7ab9dd1a3ad950b5",
     "locked": true,
     "schema_version": 3,
     "solution": false,
     "task": false
    }
   },
   "source": [
    "<div class=\"image\">\n",
    "\n",
    "  <img style=\"float: right;\" src=\"https://dx5i3n065oxey.cloudfront.net/platform/4186/assets/logo.png?v=2e76f927-9482-4bfb-9092-d9a0b595cd2c\" width=\"45%\" align=\"right\">\n",
    "      <h4>\n",
    "          <p style=\"font-size:20pt\">Programming for Business Analytics</p>\n",
    "          <p style=\"font-size:15pt\">Quiz 2</p>\n",
    "      </h4>\n",
    "</div>\n",
    "\n",
    "- Make sure you have executed the code in the cell below.\n",
    "- Make sure you read the questions carefully and follow the instructions.\n",
    "- Make sure you put the answers in the Answer cells.\n",
    "- Please do not put your answers in comments (after #).\n",
    "- Please do not add any new cells between the Question and Answer cells.\n",
    "- Please do not change the names of the variables in Answer cells.\n",
    "- Please do not assign the expected result directly to the variable."
   ]
  },
  {
   "cell_type": "markdown",
   "metadata": {
    "deletable": false,
    "editable": false,
    "id": "be393774ca54335242712dc008c7ea9ae7e9c067e97531985492f486598997d9",
    "nbgrader": {
     "cell_type": "markdown",
     "checksum": "57585da97697d1badafdaeb71da949dd",
     "grade": false,
     "grade_id": "cell-f598bf59f80f1819",
     "locked": true,
     "schema_version": 3,
     "solution": false,
     "task": false
    }
   },
   "source": [
    "<div class=\"alert alert-warning\">\n",
    "<b>QUESTION 1:</b>\n",
    "<p>Which one of the code below can <b>NOT</b> triple the elements in the list <code>lst = [2, 4, 6, 8, 10]</code> as <code>[6, 12, 18, 24, 30]</code>?</p>\n",
    "<p>a)</p>\n",
    "\n",
    "```python \n",
    "lst = [i*3 for i in lst]\n",
    "```\n",
    "\n",
    "<p>b)</p>\n",
    "\n",
    "```python\n",
    "lst = [lst[i]*3 for i in range(len(lst))]\n",
    "```\n",
    "    \n",
    "<p>c)</p>\n",
    "\n",
    "```python\n",
    "lst = lst*3\n",
    "```\n",
    "    \n",
    "<p>d)</p>\n",
    "\n",
    "```python\n",
    "lst = [i+i+i for i in lst]\n",
    "```\n",
    "    \n",
    "</div>"
   ]
  },
  {
   "cell_type": "code",
   "execution_count": null,
   "metadata": {
    "deletable": false,
    "nbgrader": {
     "cell_type": "code",
     "checksum": "771e64098c63eebc5162ccc44935636c",
     "grade": false,
     "grade_id": "cell-3248bf73a68dd43f",
     "locked": false,
     "schema_version": 3,
     "solution": true,
     "task": false
    }
   },
   "outputs": [],
   "source": [
    "###ANSWER(1). Please assign the letter representing the correct answer to the variable \n",
    "### (write the letter down between the \"\")\n",
    "\n",
    "answer_1 = \"c\" # YOUR ANSWER SHOULD BE BETWEEN \"\""
   ]
  },
  {
   "cell_type": "code",
   "execution_count": null,
   "metadata": {
    "deletable": false,
    "editable": false,
    "nbgrader": {
     "cell_type": "code",
     "checksum": "ca9126b0da4dad47aef7ddda1fcbc27d",
     "grade": true,
     "grade_id": "cell-91dcf7227f64d5e3",
     "locked": true,
     "points": 10,
     "schema_version": 3,
     "solution": false,
     "task": false
    }
   },
   "outputs": [],
   "source": [
    "#Please leave this cell blank."
   ]
  },
  {
   "cell_type": "markdown",
   "metadata": {
    "deletable": false,
    "editable": false,
    "id": "7e3f9f76e86381e64acebfe1983c3d6e6ab7fd91f35617057bd8ade69756daa9",
    "nbgrader": {
     "cell_type": "markdown",
     "checksum": "d31c30ea4158a6411fd536617361e00e",
     "grade": false,
     "grade_id": "cell-1980a0b920b4f090",
     "locked": true,
     "schema_version": 3,
     "solution": false,
     "task": false
    }
   },
   "source": [
    "<div class=\"alert alert-warning\">\n",
    "<b>QUESTION 2:</b>\n",
    "<p>A list has been defined.</p>\n",
    "    \n",
    "```python\n",
    "lst = [1,2,3,4,5]\n",
    "```\n",
    "    \n",
    "<p>Which one of the following code can remove the second element <code>2</code> from the list?</p>\n",
    "\n",
    "<p> a) <code>lst.pop(1)</code> and <code>lst.remove(1)</code></p>\n",
    "<p> b) <code>lst.pop(1)</code> and <code>lst.remove(2)</code></p>\n",
    "<p> c) <code>lst.pop(2)</code> and <code>lst.remove(1)</code></p>\n",
    "<p> d) <code>lst.pop(2)</code> and <code>lst.remove(2)</code></p>\n",
    "</div>"
   ]
  },
  {
   "cell_type": "code",
   "execution_count": null,
   "metadata": {
    "deletable": false,
    "nbgrader": {
     "cell_type": "code",
     "checksum": "873d970a2603e8ba6170fcd082505e37",
     "grade": false,
     "grade_id": "cell-98ea105b5db1175a",
     "locked": false,
     "schema_version": 3,
     "solution": true,
     "task": false
    }
   },
   "outputs": [],
   "source": [
    "###ANSWER(2). Please assign the letter representing the correct answer to the variable \n",
    "### (write the letter down between the \"\")\n",
    "\n",
    "answer_2 = \"b\" # YOUR ANSWER SHOULD BE BETWEEN \"\""
   ]
  },
  {
   "cell_type": "code",
   "execution_count": null,
   "metadata": {
    "deletable": false,
    "editable": false,
    "nbgrader": {
     "cell_type": "code",
     "checksum": "acb7ba04b3a38ad2b9bac50873c73178",
     "grade": true,
     "grade_id": "cell-fa5f50a14a3ef4b3",
     "locked": true,
     "points": 10,
     "schema_version": 3,
     "solution": false,
     "task": false
    }
   },
   "outputs": [],
   "source": [
    "#Please leave this cell blank."
   ]
  },
  {
   "cell_type": "markdown",
   "metadata": {
    "deletable": false,
    "editable": false,
    "id": "23a4f97ea4954f0689627c326ade24c4cb533ea2c8ebab2eeb6dd8570273c701",
    "nbgrader": {
     "cell_type": "markdown",
     "checksum": "624a3b227f76ddb1863ad2d8dded28d2",
     "grade": false,
     "grade_id": "cell-67d18727ceeaf92f",
     "locked": true,
     "schema_version": 3,
     "solution": false,
     "task": false
    }
   },
   "source": [
    "<div class=\"alert alert-warning\"> \n",
    "\n",
    "<b>QUESTION 3:</b> \n",
    "\n",
    "<p>A list has been defined.</p>\n",
    "\n",
    "```python\n",
    "vegetables = [\"courgettes\", \"broccolis\", \"tomatoes\", \"carrots\", \"peas\"]\n",
    "```\n",
    "    \n",
    "<p>Add the element <code>\"lettuces\"</code> before the element <code>\"tomatoes\"</code> in the list. Print <code>vegetables</code>, the expected output is shown below.</p>\n",
    "\n",
    "```\n",
    "['courgettes', 'broccolis', 'lettuces', 'tomatoes', 'carrots', 'peas']\n",
    "```\n",
    "</div>"
   ]
  },
  {
   "cell_type": "code",
   "execution_count": 5,
   "metadata": {
    "deletable": false,
    "nbgrader": {
     "cell_type": "code",
     "checksum": "a0a083dd195e44af3959cf5df775bf61",
     "grade": false,
     "grade_id": "cell-cdcf033f844b1c54",
     "locked": false,
     "schema_version": 3,
     "solution": true,
     "task": false
    }
   },
   "outputs": [
    {
     "name": "stdout",
     "output_type": "stream",
     "text": [
      "['courgettes', 'broccolis', 'lettuces', 'tomatoes', 'carrots', 'peas']\n"
     ]
    }
   ],
   "source": [
    "###ANSWER(3). \n",
    "vegetables = [\"courgettes\", \"broccolis\", \"tomatoes\", \"carrots\", \"peas\"]\n",
    "# Please write your code here.\n",
    "vegetables.insert(2,\"lettuces\")\n",
    "print(vegetables)"
   ]
  },
  {
   "cell_type": "code",
   "execution_count": null,
   "metadata": {
    "deletable": false,
    "editable": false,
    "nbgrader": {
     "cell_type": "code",
     "checksum": "dd37e6e1156411cba4b92c5fa9d04d86",
     "grade": true,
     "grade_id": "cell-2b2506451eb0560f",
     "locked": true,
     "points": 10,
     "schema_version": 3,
     "solution": false,
     "task": false
    }
   },
   "outputs": [],
   "source": [
    "#Please leave this cell blank."
   ]
  },
  {
   "cell_type": "markdown",
   "metadata": {
    "deletable": false,
    "editable": false,
    "id": "1d01d2a2868d227cfc00ddfbe07562d89f449ac7685d132b7349331efa6b4bf5",
    "nbgrader": {
     "cell_type": "markdown",
     "checksum": "97f8bce66d28870e81e8cd38f3695592",
     "grade": false,
     "grade_id": "cell-880aa1ff82cc9ebf",
     "locked": true,
     "schema_version": 3,
     "solution": false,
     "task": false
    }
   },
   "source": [
    "<div class=\"alert alert-warning\"> \n",
    "\n",
    "<b>QUESTION 4:</b> \n",
    "    \n",
    "<p>A list has been defined below.</p>\n",
    "    \n",
    "```python\n",
    "programming_list = [\"Ruby\", \"Swift\", \"C++\", \"Java\", \"SQL\", \"Python\", \"R\", \"PHP\", \"C#\", \"JavaScript\"]\n",
    "```\n",
    "    \n",
    "<p><b>Slice</b> the list so that when printing <code>programming_list</code>, the expected output is as follows.</p>\n",
    "\n",
    "```\n",
    "[\"SQL\", \"Python\", \"R\"]\n",
    "``` \n",
    "</div>"
   ]
  },
  {
   "cell_type": "code",
   "execution_count": 6,
   "metadata": {
    "deletable": false,
    "nbgrader": {
     "cell_type": "code",
     "checksum": "8df583bd2a202aee09c3019c184a0cce",
     "grade": false,
     "grade_id": "cell-aa8296f4a9803da7",
     "locked": false,
     "schema_version": 3,
     "solution": true,
     "task": false
    }
   },
   "outputs": [
    {
     "name": "stdout",
     "output_type": "stream",
     "text": [
      "['SQL', 'Python', 'R']\n"
     ]
    }
   ],
   "source": [
    "###ANSWER(4). \n",
    "programming_list = [\"Ruby\", \"Swift\", \"C++\", \"Java\", \"SQL\", \"Python\", \"R\", \"PHP\", \"C#\", \"JavaScript\"]\n",
    "# Please write your code here.\n",
    "programming_list = programming_list[4:7]\n",
    "print(programming_list)"
   ]
  },
  {
   "cell_type": "code",
   "execution_count": null,
   "metadata": {
    "deletable": false,
    "editable": false,
    "nbgrader": {
     "cell_type": "code",
     "checksum": "3304ea05db76038c247f94228416496b",
     "grade": true,
     "grade_id": "cell-1b67016c08202f26",
     "locked": true,
     "points": 10,
     "schema_version": 3,
     "solution": false,
     "task": false
    }
   },
   "outputs": [],
   "source": [
    "#Please leave this cell blank."
   ]
  },
  {
   "cell_type": "markdown",
   "metadata": {
    "deletable": false,
    "editable": false,
    "id": "563664e609dd1fff79dee74eb7912d7f19c1e5550c797e2e840ca495e66cb057",
    "nbgrader": {
     "cell_type": "markdown",
     "checksum": "660d53d3cb287f24f9ab03e15b1030fa",
     "grade": false,
     "grade_id": "cell-77e2480364f1cf83",
     "locked": true,
     "schema_version": 3,
     "solution": false,
     "task": false
    }
   },
   "source": [
    "<div class=\"alert alert-warning\"> \n",
    "\n",
    "<b>QUESTION 5:</b> \n",
    "    \n",
    "<p>A list has been defined.</p>\n",
    "    \n",
    "```python \n",
    "vegetables = [\"courgettes\", \"broccolis\", \"tomatoes\", \"carrots\", \"peas\"]\n",
    "```\n",
    "        \n",
    "<p>Use <b>list comprehension</b> to update the list so that it only contains elements <code>\"courgettes\"</code> and <code>\"broccolis\"</code>. Print <code>vegetables</code>, the expected output is shown below.</p>\n",
    "\n",
    "```\n",
    "['courgettes', 'broccolis']\n",
    "```\n",
    "</div>"
   ]
  },
  {
   "cell_type": "code",
   "execution_count": 20,
   "metadata": {
    "deletable": false,
    "nbgrader": {
     "cell_type": "code",
     "checksum": "92f984512c30f17af5386f11b5fa99a6",
     "grade": false,
     "grade_id": "cell-c7c135ce1cc6a29d",
     "locked": false,
     "schema_version": 3,
     "solution": true,
     "task": false
    }
   },
   "outputs": [
    {
     "name": "stdout",
     "output_type": "stream",
     "text": [
      "['courgettes', 'broccolis']\n"
     ]
    }
   ],
   "source": [
    "###ANSWER(5). \n",
    "vegetables = [\"courgettes\", \"broccolis\", \"tomatoes\", \"carrots\", \"peas\"]\n",
    "# Please write your code here.\n",
    "vegetables = [i for i in vegetables if i==\"courgettes\" or i==\"broccolis\"]\n",
    "print(vegetables)"
   ]
  },
  {
   "cell_type": "code",
   "execution_count": null,
   "metadata": {
    "deletable": false,
    "editable": false,
    "nbgrader": {
     "cell_type": "code",
     "checksum": "30ffaf5c8a15d27bdfd1ef7db8094d42",
     "grade": true,
     "grade_id": "cell-92197dae6e81bffb",
     "locked": true,
     "points": 10,
     "schema_version": 3,
     "solution": false,
     "task": false
    }
   },
   "outputs": [],
   "source": [
    "#Please leave this cell blank."
   ]
  },
  {
   "cell_type": "markdown",
   "metadata": {
    "deletable": false,
    "editable": false,
    "id": "1c00168c08b8fab9e08042fd536a7bfbfd9394bf2a2c5d60a57ecb67a6f0035e",
    "nbgrader": {
     "cell_type": "markdown",
     "checksum": "6c951c32cfb87f68d227592ad362486f",
     "grade": false,
     "grade_id": "cell-7adba9a656a8ce5b",
     "locked": true,
     "schema_version": 3,
     "solution": false,
     "task": false
    }
   },
   "source": [
    "<div class=\"alert alert-warning\">\n",
    "<b>QUESTION 6:</b>\n",
    "<p>A list has been defined.</p>\n",
    "    \n",
    "```python\n",
    "nums = [12, 123, 1234, 12345, 123456]\n",
    "```\n",
    "    \n",
    "<p>Reverse the order of the digits in each number and also the order of the numbers in <code>nums</code>. Print <code>nums</code>, the expected output is shown below.</p>\n",
    "\n",
    "```\n",
    "[654321, 54321, 4321, 321, 21]\n",
    "```\n",
    "</div>"
   ]
  },
  {
   "cell_type": "code",
   "execution_count": 27,
   "metadata": {
    "deletable": false,
    "nbgrader": {
     "cell_type": "code",
     "checksum": "b21ae7e53524cbee30a187f12e55528b",
     "grade": false,
     "grade_id": "cell-376cad601fa5a101",
     "locked": false,
     "schema_version": 3,
     "solution": true,
     "task": false
    }
   },
   "outputs": [
    {
     "name": "stdout",
     "output_type": "stream",
     "text": [
      "[654321, 54321, 4321, 321, 21]\n"
     ]
    }
   ],
   "source": [
    "###ANSWER(6). \n",
    "nums = [12, 123, 1234, 12345, 123456]\n",
    "# Please write your code here.\n",
    "nums.reverse()\n",
    "nums=[int(str(i)[::-1]) for i in nums]\n",
    "print(nums)"
   ]
  },
  {
   "cell_type": "code",
   "execution_count": null,
   "metadata": {
    "deletable": false,
    "editable": false,
    "nbgrader": {
     "cell_type": "code",
     "checksum": "6ca6879c4009f2fd3772a288ed44f0f4",
     "grade": true,
     "grade_id": "cell-fea281255e708e69",
     "locked": true,
     "points": 10,
     "schema_version": 3,
     "solution": false,
     "task": false
    }
   },
   "outputs": [],
   "source": [
    "#Please leave this cell blank."
   ]
  },
  {
   "cell_type": "markdown",
   "metadata": {
    "deletable": false,
    "editable": false,
    "id": "1a9c280e9743a0cd22938872b8c5357c1672670bffbc96c16f7eac346306854a",
    "nbgrader": {
     "cell_type": "markdown",
     "checksum": "1eb4e62c59a16dad2f63eee4dc5b9ae5",
     "grade": false,
     "grade_id": "cell-0bccc334a9230d1a",
     "locked": true,
     "schema_version": 3,
     "solution": false,
     "task": false
    }
   },
   "source": [
    "<div class=\"alert alert-warning\"> \n",
    "\n",
    "<b>QUESTION 7:</b> \n",
    "    \n",
    "<p>A list has been defined.</p>\n",
    "    \n",
    "```python\n",
    "score_list = [67, 74, 52, 43, 92, 71, 68, 62, 56.5, 60]\n",
    "```   \n",
    "\n",
    "<p>Remove all the numbers that are divisible by 4 and calculate the average value of the items in the list and assign the result to <code>avg_score</code>. Print the new <code>score_list</code> and <code>avg_score</code>, the expected output is shown below.</p>\n",
    "    \n",
    "```\n",
    "[67, 74, 43, 71, 62, 56.5]\n",
    "62.25\n",
    "```   \n",
    "</div>"
   ]
  },
  {
   "cell_type": "code",
   "execution_count": 25,
   "metadata": {
    "deletable": false,
    "nbgrader": {
     "cell_type": "code",
     "checksum": "79a718976c29d1e65e1ed64c081a4aab",
     "grade": false,
     "grade_id": "cell-e348a6ded81c1cf7",
     "locked": false,
     "schema_version": 3,
     "solution": true,
     "task": false
    }
   },
   "outputs": [
    {
     "name": "stdout",
     "output_type": "stream",
     "text": [
      "[67, 74, 43, 71, 62, 56.5]\n",
      "62.25\n"
     ]
    }
   ],
   "source": [
    "###ANSWER(7). \n",
    "score_list = [67, 74, 52, 43, 92, 71, 68, 62, 56.5, 60]\n",
    "# Please write your code here.\n",
    "i=0\n",
    "for i in score_list:\n",
    "    if(i%4==0):\n",
    "        score_list.remove(i)\n",
    "        i+=1\n",
    "avg_score = sum(score_list)/len(score_list)\n",
    "\n",
    "print(score_list)\n",
    "print(avg_score)"
   ]
  },
  {
   "cell_type": "code",
   "execution_count": null,
   "metadata": {
    "deletable": false,
    "editable": false,
    "nbgrader": {
     "cell_type": "code",
     "checksum": "4ff9b15cce37a174a9cb646ee1117d26",
     "grade": true,
     "grade_id": "cell-b737ce413ff106e0",
     "locked": true,
     "points": 10,
     "schema_version": 3,
     "solution": false,
     "task": false
    }
   },
   "outputs": [],
   "source": [
    "#Please leave this cell blank."
   ]
  },
  {
   "cell_type": "markdown",
   "metadata": {
    "deletable": false,
    "editable": false,
    "id": "7dea823245ee49eacdcefc1de033b879ac3b8053a87c89a086a0c2167ad96675",
    "nbgrader": {
     "cell_type": "markdown",
     "checksum": "6e72523ffcf0bc1959e97e3de2776b93",
     "grade": false,
     "grade_id": "cell-d9ae3a973d0432a3",
     "locked": true,
     "schema_version": 3,
     "solution": false,
     "task": false
    }
   },
   "source": [
    "<div class=\"alert alert-warning\"> \n",
    "\n",
    "<b>QUESTION 8:</b> \n",
    "    \n",
    "<p>A list has been defined.</p>\n",
    "    \n",
    "```python\n",
    "uk_top_uni = ['egdirbmaC', 'drofxO', 'lairepmI', 'LCU', 'hgrubnidE']\n",
    "``` \n",
    "    \n",
    "<p>Write code to reverse each string in the list and sort the list by the alphabetical order. Print <code>uk_top_uni</code>, the expected output is shown below.</p>\n",
    "    \n",
    "```\n",
    "['Cambridge', 'Edinburgh', 'Imperial', 'Oxford', 'UCL']\n",
    "```\n",
    "    \n",
    "</div>"
   ]
  },
  {
   "cell_type": "code",
   "execution_count": 16,
   "metadata": {
    "deletable": false,
    "nbgrader": {
     "cell_type": "code",
     "checksum": "8cbb18cd94ff7ac4ef47a360d824dbd3",
     "grade": false,
     "grade_id": "cell-fef6b7be49f9b67e",
     "locked": false,
     "schema_version": 3,
     "solution": true,
     "task": false
    }
   },
   "outputs": [
    {
     "name": "stdout",
     "output_type": "stream",
     "text": [
      "['UCL', 'Oxford', 'Imperial', 'Edinburgh', 'Cambridge']\n"
     ]
    }
   ],
   "source": [
    "###ANSWER(8). \n",
    "uk_top_uni = ['egdirbmaC', 'drofxO', 'lairepmI', 'LCU', 'hgrubnidE']\n",
    "# Please write your code here.\n",
    "\n",
    "uk_top_uni=[i[::-1] for i in uk_top_uni]\n",
    "print(uk_top_uni)"
   ]
  },
  {
   "cell_type": "code",
   "execution_count": null,
   "metadata": {
    "deletable": false,
    "editable": false,
    "nbgrader": {
     "cell_type": "code",
     "checksum": "42704844266d022973322f6cde59e40a",
     "grade": true,
     "grade_id": "cell-a7d660a187edf386",
     "locked": true,
     "points": 10,
     "schema_version": 3,
     "solution": false,
     "task": false
    }
   },
   "outputs": [],
   "source": [
    "#Please leave this cell blank."
   ]
  },
  {
   "cell_type": "markdown",
   "metadata": {
    "deletable": false,
    "editable": false,
    "id": "83089b6595b5434813bc31fdc699249135614a4c1a4f0d495c211ecf92921427",
    "nbgrader": {
     "cell_type": "markdown",
     "checksum": "0c96adcbd0baa78eb17b06309d897875",
     "grade": false,
     "grade_id": "cell-c9ee26ec3e28b202",
     "locked": true,
     "schema_version": 3,
     "solution": false,
     "task": false
    }
   },
   "source": [
    "<div class=\"alert alert-warning\">\n",
    "<b>QUESTION 9:</b>\n",
    "<p>An empty list <code>fib_list</code> has been defined. Use a <b>loop</b> to append the first 20 Fibonacci&ast; numbers to the list. Print <code>fib_list</code>, the expected output is shown below.</p>\n",
    "    \n",
    "```\n",
    "[0, 1, 1, 2, 3, 5, 8, 13, 21, 34, 55, 89, 144, 233, 377, 610, 987, 1597, 2584, 4181]\n",
    "```\n",
    "<p>&ast; The Fibonacci Sequence is a series of numbers. Each number is the sum of the two preceding ones. The sequence starts from 0 and 1.</p>\n",
    "\n",
    "</div>"
   ]
  },
  {
   "cell_type": "code",
   "execution_count": null,
   "metadata": {
    "deletable": false,
    "nbgrader": {
     "cell_type": "code",
     "checksum": "c2edd38002c36b05d2d2de44b9ac5026",
     "grade": false,
     "grade_id": "cell-52a2213ac1c6d2ac",
     "locked": false,
     "schema_version": 3,
     "solution": true,
     "task": false
    }
   },
   "outputs": [],
   "source": [
    "###ANSWER(9).\n",
    "fib_list = []\n",
    "# Please write your code here.\n",
    "while \n",
    "print(fib_list)"
   ]
  },
  {
   "cell_type": "code",
   "execution_count": null,
   "metadata": {
    "deletable": false,
    "editable": false,
    "nbgrader": {
     "cell_type": "code",
     "checksum": "d8e27d101f2608f1253a218ae8efa284",
     "grade": true,
     "grade_id": "cell-bceeedadee01fdd1",
     "locked": true,
     "points": 10,
     "schema_version": 3,
     "solution": false,
     "task": false
    }
   },
   "outputs": [],
   "source": [
    "#Please leave this cell blank."
   ]
  },
  {
   "cell_type": "markdown",
   "metadata": {
    "deletable": false,
    "editable": false,
    "id": "2ba9bf8887a41a6d7e38ebe71b7286beba4387e0a15a214f345bd2824d502cca",
    "nbgrader": {
     "cell_type": "markdown",
     "checksum": "c3aefc08b97374830923c6a59906c137",
     "grade": false,
     "grade_id": "cell-f12084c800b5f3cd",
     "locked": true,
     "schema_version": 3,
     "solution": false,
     "task": false
    }
   },
   "source": [
    "<div class=\"alert alert-warning\"> \n",
    "\n",
    "<b>QUESTION 10:</b> \n",
    "    \n",
    "<p>Write a <code>while</code> loop to print all integers range from 150 to 170. If the number is divisible by 7, print <code>This number is divisible by 7.</code>; otherwise print the number. After printing 170, print <code>End of the loop.</code>.</p>\n",
    "\n",
    "<p>The expected output is shown below.</p>\n",
    "    \n",
    "```\n",
    "151\n",
    "152\n",
    "153\n",
    "This number is divisible by 7.\n",
    "155\n",
    "156\n",
    "157\n",
    "158\n",
    "159\n",
    "160\n",
    "This number is divisible by 7.\n",
    "162\n",
    "163\n",
    "164\n",
    "165\n",
    "166\n",
    "167\n",
    "This number is divisible by 7.\n",
    "169\n",
    "170\n",
    "End of the loop.\n",
    "```\n",
    "    \n",
    "</div>"
   ]
  },
  {
   "cell_type": "code",
   "execution_count": 19,
   "metadata": {
    "deletable": false,
    "nbgrader": {
     "cell_type": "code",
     "checksum": "760dbbf059989c3c898ee901bc5ca011",
     "grade": false,
     "grade_id": "cell-a923de0fe24819fb",
     "locked": false,
     "schema_version": 3,
     "solution": true,
     "task": false
    }
   },
   "outputs": [
    {
     "name": "stdout",
     "output_type": "stream",
     "text": [
      "151\n",
      "152\n",
      "153\n",
      "This number is divisible by 7.\n",
      "155\n",
      "156\n",
      "157\n",
      "158\n",
      "159\n",
      "160\n",
      "This number is divisible by 7.\n",
      "162\n",
      "163\n",
      "164\n",
      "165\n",
      "166\n",
      "167\n",
      "This number is divisible by 7.\n",
      "169\n",
      "170\n",
      "End of the loop.\n"
     ]
    }
   ],
   "source": [
    "###ANSWER(10). \n",
    "# Please write your code here.\n",
    "i = 150\n",
    "while i<171:\n",
    "    i += 1\n",
    "    if i%7 == 0:\n",
    "        print(\"This number is divisible by 7.\")\n",
    "        continue \n",
    "    if i == 171:\n",
    "        print(\"End of the loop.\")\n",
    "        break\n",
    "    print(i)"
   ]
  },
  {
   "cell_type": "code",
   "execution_count": null,
   "metadata": {
    "deletable": false,
    "editable": false,
    "nbgrader": {
     "cell_type": "code",
     "checksum": "ad65c03b213081b90b0ba0b495cd0684",
     "grade": true,
     "grade_id": "cell-b215e6b3218d0858",
     "locked": true,
     "points": 10,
     "schema_version": 3,
     "solution": false,
     "task": false
    }
   },
   "outputs": [],
   "source": [
    "#Please leave this cell blank."
   ]
  }
 ],
 "metadata": {
  "kernelspec": {
   "display_name": "Python 3 (ipykernel)",
   "language": "python",
   "name": "python3"
  },
  "language_info": {
   "codemirror_mode": {
    "name": "ipython",
    "version": 3
   },
   "file_extension": ".py",
   "mimetype": "text/x-python",
   "name": "python",
   "nbconvert_exporter": "python",
   "pygments_lexer": "ipython3",
   "version": "3.9.7"
  }
 },
 "nbformat": 4,
 "nbformat_minor": 4
}
